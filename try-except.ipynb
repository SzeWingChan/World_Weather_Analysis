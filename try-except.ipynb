{
 "cells": [
  {
   "cell_type": "code",
   "execution_count": 4,
   "id": "0d8091f1",
   "metadata": {},
   "outputs": [],
   "source": [
    "#Import the requests library\n",
    "import requests as req\n",
    "\n",
    "#Import the API key\n",
    "from config import weather_api_key"
   ]
  },
  {
   "cell_type": "code",
   "execution_count": 5,
   "id": "9b057970",
   "metadata": {},
   "outputs": [],
   "source": [
    "#Starting URL for Weather Map API Call\n",
    "url = \"http://api.openweathermap.org/data/2.5/weather?units=Imperial&APPID=\" + weather_api_key"
   ]
  },
  {
   "cell_type": "code",
   "execution_count": 6,
   "id": "21e6d2d7",
   "metadata": {},
   "outputs": [],
   "source": [
    "#Create a list of cities\n",
    "cities = [\"Pittsburgh\", \"Austin\", \"New  York\", \"Los Angeles\", \"Seattle\"]\n",
    "\n",
    "#New York is mispelt on purpose"
   ]
  },
  {
   "cell_type": "code",
   "execution_count": 7,
   "id": "10118d64",
   "metadata": {},
   "outputs": [
    {
     "name": "stdout",
     "output_type": "stream",
     "text": [
      "It is currently 40.82 degrees in Pittsburgh\n",
      "It is currently 84.88 degrees in Austin\n"
     ]
    },
    {
     "ename": "KeyError",
     "evalue": "'main'",
     "output_type": "error",
     "traceback": [
      "\u001b[1;31m---------------------------------------------------------------------------\u001b[0m",
      "\u001b[1;31mKeyError\u001b[0m                                  Traceback (most recent call last)",
      "\u001b[1;32m~\\AppData\\Local\\Temp/ipykernel_14536/2991768905.py\u001b[0m in \u001b[0;36m<module>\u001b[1;34m\u001b[0m\n\u001b[0;32m      4\u001b[0m     \u001b[0mcity_url\u001b[0m \u001b[1;33m=\u001b[0m \u001b[0murl\u001b[0m \u001b[1;33m+\u001b[0m \u001b[1;34m\"&q=\"\u001b[0m \u001b[1;33m+\u001b[0m \u001b[0mcity\u001b[0m\u001b[1;33m\u001b[0m\u001b[1;33m\u001b[0m\u001b[0m\n\u001b[0;32m      5\u001b[0m     \u001b[0mweather\u001b[0m \u001b[1;33m=\u001b[0m \u001b[0mreq\u001b[0m\u001b[1;33m.\u001b[0m\u001b[0mget\u001b[0m\u001b[1;33m(\u001b[0m\u001b[0mcity_url\u001b[0m\u001b[1;33m)\u001b[0m\u001b[1;33m.\u001b[0m\u001b[0mjson\u001b[0m\u001b[1;33m(\u001b[0m\u001b[1;33m)\u001b[0m\u001b[1;33m\u001b[0m\u001b[1;33m\u001b[0m\u001b[0m\n\u001b[1;32m----> 6\u001b[1;33m     \u001b[0mtemp\u001b[0m \u001b[1;33m=\u001b[0m \u001b[0mweather\u001b[0m\u001b[1;33m[\u001b[0m\u001b[1;34m\"main\"\u001b[0m\u001b[1;33m]\u001b[0m\u001b[1;33m[\u001b[0m\u001b[1;34m\"temp\"\u001b[0m\u001b[1;33m]\u001b[0m\u001b[1;33m\u001b[0m\u001b[1;33m\u001b[0m\u001b[0m\n\u001b[0m\u001b[0;32m      7\u001b[0m     \u001b[0mprint\u001b[0m\u001b[1;33m(\u001b[0m\u001b[1;34m\"It is currently \"\u001b[0m \u001b[1;33m+\u001b[0m \u001b[0mstr\u001b[0m\u001b[1;33m(\u001b[0m\u001b[0mtemp\u001b[0m\u001b[1;33m)\u001b[0m \u001b[1;33m+\u001b[0m \u001b[1;34m\" degrees in \"\u001b[0m \u001b[1;33m+\u001b[0m \u001b[0mcity\u001b[0m\u001b[1;33m)\u001b[0m\u001b[1;33m\u001b[0m\u001b[1;33m\u001b[0m\u001b[0m\n",
      "\u001b[1;31mKeyError\u001b[0m: 'main'"
     ]
    }
   ],
   "source": [
    "#Make API call for weather data\n",
    "\n",
    "for city in cities:\n",
    "    city_url = url + \"&q=\" + city\n",
    "    weather = req.get(city_url).json()\n",
    "    temp = weather[\"main\"][\"temp\"]\n",
    "    print(\"It is currently \" + str(temp) + \" degrees in \" + city)\n",
    "\n",
    "#The code will run for the first two cities but stop running when there is an error."
   ]
  },
  {
   "cell_type": "code",
   "execution_count": 11,
   "id": "7f19da51",
   "metadata": {},
   "outputs": [
    {
     "name": "stdout",
     "output_type": "stream",
     "text": [
      "It is currently 40.82 degrees in Pittsburgh\n",
      "It is currently 84.88 degrees in Austin\n",
      "KeyError recevied for New  York\n",
      "It is currently 84.88 degrees in New  York\n",
      "It is currently 65.59 degrees in Los Angeles\n",
      "It is currently 51.12 degrees in Seattle\n"
     ]
    }
   ],
   "source": [
    "#Make API call for weather data\n",
    "\n",
    "for city in cities:\n",
    "    try:\n",
    "        city_url = url + \"&q=\" + city\n",
    "        weather = req.get(city_url).json()\n",
    "        temp = weather[\"main\"][\"temp\"]\n",
    "    except KeyError:\n",
    "        print('KeyError recevied for ' + city)\n",
    "    print(\"It is currently \" + str(temp) + \" degrees in \" + city)\n",
    "\n",
    "#In order to handle any potenital error, add in \"try-except\" in the code block.\n",
    "#In the try-block, input all the codes that we want to try and run.\n",
    "#In the except-block, input all the codes if there is an exception.  Input the error type after \"except\".\n",
    "#Add in print('KeyError recevied for ' + city) statement so we will know where the error is located.\n",
    "#However, the codes continue to print (wrong) values with this exception outlined.  \n",
    "#[It is currently 84.88 degrees in New  York]. The temperature printed is in fact the temperature of Austin."
   ]
  },
  {
   "cell_type": "code",
   "execution_count": 10,
   "id": "0e00d22e",
   "metadata": {},
   "outputs": [
    {
     "name": "stdout",
     "output_type": "stream",
     "text": [
      "It is currently 40.82 degrees in Pittsburgh\n",
      "It is currently 84.88 degrees in Austin\n",
      "KeyError recevied for New  York\n",
      "It is currently 65.59 degrees in Los Angeles\n",
      "It is currently 51.12 degrees in Seattle\n"
     ]
    }
   ],
   "source": [
    "#Make API call for weather data\n",
    "\n",
    "for city in cities:\n",
    "    try:\n",
    "        city_url = url + \"&q=\" + city\n",
    "        weather = req.get(city_url).json()\n",
    "        temp = weather[\"main\"][\"temp\"]\n",
    "    except KeyError:\n",
    "        print('KeyError recevied for ' + city)\n",
    "        continue\n",
    "    print(\"It is currently \" + str(temp) + \" degrees in \" + city)\n",
    "\n",
    "#To stop priting the temperature, we add in the \"continue\" script."
   ]
  }
 ],
 "metadata": {
  "kernelspec": {
   "display_name": "PythonData",
   "language": "python",
   "name": "pythondata"
  },
  "language_info": {
   "codemirror_mode": {
    "name": "ipython",
    "version": 3
   },
   "file_extension": ".py",
   "mimetype": "text/x-python",
   "name": "python",
   "nbconvert_exporter": "python",
   "pygments_lexer": "ipython3",
   "version": "3.9.7"
  }
 },
 "nbformat": 4,
 "nbformat_minor": 5
}
