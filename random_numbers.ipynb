{
 "cells": [
  {
   "cell_type": "code",
   "execution_count": 15,
   "id": "7986d7de",
   "metadata": {},
   "outputs": [],
   "source": [
    "#6.1.4\n",
    "#The random module\n",
    "\n",
    "# Import the random module.\n",
    "import random"
   ]
  },
  {
   "cell_type": "code",
   "execution_count": 16,
   "id": "2f462cf0",
   "metadata": {},
   "outputs": [
    {
     "data": {
      "text/plain": [
       "<bound method Random.randint of <random.Random object at 0x00000201FA49E180>>"
      ]
     },
     "execution_count": 16,
     "metadata": {},
     "output_type": "execute_result"
    }
   ],
   "source": [
    "#The randint() funciton\n",
    "#Short for \"random integer\"\n",
    "random.randint"
   ]
  },
  {
   "cell_type": "code",
   "execution_count": 17,
   "id": "7972882d",
   "metadata": {},
   "outputs": [
    {
     "data": {
      "text/plain": [
       "85"
      ]
     },
     "execution_count": 17,
     "metadata": {},
     "output_type": "execute_result"
    }
   ],
   "source": [
    "random.randint(-90, 90)"
   ]
  },
  {
   "cell_type": "code",
   "execution_count": 18,
   "id": "6c9ade3f",
   "metadata": {},
   "outputs": [
    {
     "data": {
      "text/plain": [
       "0.43875932664358686"
      ]
     },
     "execution_count": 18,
     "metadata": {},
     "output_type": "execute_result"
    }
   ],
   "source": [
    "#The random() Function\n",
    "#This function returns only a floating-point decimal number between 0 and 1.0\n",
    "random.random()"
   ]
  },
  {
   "cell_type": "code",
   "execution_count": 19,
   "id": "467cf243",
   "metadata": {},
   "outputs": [],
   "source": [
    "random_number = random.randint(-90, 89) + random.random()\n",
    "#random_number"
   ]
  },
  {
   "cell_type": "code",
   "execution_count": 20,
   "id": "c71986e8",
   "metadata": {},
   "outputs": [
    {
     "name": "stdout",
     "output_type": "stream",
     "text": [
      "[54.47941103532353, 57.509809933999044, 10.851179274896003, 25.574422696577205, 20.33183807981724, -65.19759360391527, -5.822401514262422, 83.2185827527622, 47.85663401960973, -66.11110372188664]\n"
     ]
    }
   ],
   "source": [
    "#An algorithm that will generate latitudes between –90 and 89\n",
    "#A small sample of what it might take to generate ten random floating-point decimal latitudes\n",
    "x = 1\n",
    "latitudes = []\n",
    "while x < 11:\n",
    "    random_lat = random.randint(-90, 89) + random.random()\n",
    "    latitudes.append(random_lat)\n",
    "    x += 1\n",
    "    \n",
    "print(latitudes)"
   ]
  },
  {
   "cell_type": "code",
   "execution_count": 21,
   "id": "be1329f8",
   "metadata": {},
   "outputs": [
    {
     "data": {
      "text/plain": [
       "-2"
      ]
     },
     "execution_count": 21,
     "metadata": {},
     "output_type": "execute_result"
    }
   ],
   "source": [
    "#The randrange() function\n",
    "#Can add a step parameter and set it equal to an integer, which will generate increments of a given integer value, from the lower to the upper limit\n",
    "#Step is the difference between each number in the sequence (default integer value = 1)\n",
    "random.randrange(-90, 90, step=1)"
   ]
  },
  {
   "cell_type": "code",
   "execution_count": 22,
   "id": "c009099f",
   "metadata": {},
   "outputs": [
    {
     "data": {
      "text/plain": [
       "-30"
      ]
     },
     "execution_count": 22,
     "metadata": {},
     "output_type": "execute_result"
    }
   ],
   "source": [
    "random.randrange(-90, 90, step=3)"
   ]
  },
  {
   "cell_type": "code",
   "execution_count": 23,
   "id": "33e61ef9",
   "metadata": {},
   "outputs": [
    {
     "data": {
      "text/plain": [
       "-40.64731304478805"
      ]
     },
     "execution_count": 23,
     "metadata": {},
     "output_type": "execute_result"
    }
   ],
   "source": [
    "#The uniform() function\n",
    "#Generate a floating-point decimal number between two given numbers inside the parentheses\n",
    "random.uniform(-90, 90)"
   ]
  },
  {
   "cell_type": "code",
   "execution_count": 24,
   "id": "053487d8",
   "metadata": {},
   "outputs": [],
   "source": [
    "# Import the NumPy module.\n",
    "import numpy as np\n",
    "\n",
    "#The NumPy module has a built-in random module, and supplements the built-in Python random module"
   ]
  },
  {
   "cell_type": "code",
   "execution_count": 25,
   "id": "2c1b2f2c",
   "metadata": {},
   "outputs": [
    {
     "data": {
      "text/plain": [
       "-38.38855935231813"
      ]
     },
     "execution_count": 25,
     "metadata": {},
     "output_type": "execute_result"
    }
   ],
   "source": [
    "np.random.uniform(-90.000, 90.000)\n",
    "#Adding the zeros past the decimal places is optional"
   ]
  },
  {
   "cell_type": "code",
   "execution_count": 26,
   "id": "57c0b15e",
   "metadata": {},
   "outputs": [
    {
     "data": {
      "text/plain": [
       "22.45699195931742"
      ]
     },
     "execution_count": 26,
     "metadata": {},
     "output_type": "execute_result"
    }
   ],
   "source": [
    "np.random.uniform(low=-90, high=90)"
   ]
  },
  {
   "cell_type": "code",
   "execution_count": 27,
   "id": "d835cdff",
   "metadata": {},
   "outputs": [
    {
     "data": {
      "text/plain": [
       "array([  1.06002049, -69.39713955, -80.44727994, -43.95817718,\n",
       "        85.5394646 ,  62.09212661, -29.61028213, -10.97788716,\n",
       "       -62.99849649,  88.07205322,  19.59906265,  10.89919192,\n",
       "       -70.97296314,  11.85026061,  56.69920651,  69.23672387,\n",
       "        74.92639177,  22.06699755, -15.09847827, -49.97735048,\n",
       "        66.30725629, -27.30667157,  51.70924505,  71.15494288,\n",
       "        79.9894261 ,  60.75462179,  18.49122516, -65.61381456,\n",
       "        44.4706553 ,   1.94884866,  40.94964305,  62.09430168,\n",
       "       -64.28081801,  48.8883892 , -68.11103459,  44.79656464,\n",
       "       -15.04117566, -62.9467694 , -47.50725919, -49.14780531,\n",
       "        49.33611369,  12.46082144,  63.45101993,   8.94205456,\n",
       "       -31.32021665, -72.84880707, -16.93275648,  41.05395432,\n",
       "       -26.25250471, -44.94150794])"
      ]
     },
     "execution_count": 27,
     "metadata": {},
     "output_type": "execute_result"
    }
   ],
   "source": [
    "#Adding the size parameter will define the number of output\n",
    "np.random.uniform(-90.000, 90.000, size=50)"
   ]
  },
  {
   "cell_type": "code",
   "execution_count": 28,
   "id": "47be4625",
   "metadata": {},
   "outputs": [],
   "source": [
    "#To test how long a piece of code or function takes to run, we can import the \"timeit\" module\n",
    "# Import timeit\n",
    "import timeit"
   ]
  },
  {
   "cell_type": "code",
   "execution_count": 29,
   "id": "fdea9a50",
   "metadata": {},
   "outputs": [
    {
     "name": "stdout",
     "output_type": "stream",
     "text": [
      "13.8 µs ± 201 ns per loop (mean ± std. dev. of 7 runs, 100000 loops each)\n"
     ]
    }
   ],
   "source": [
    "%timeit np.random.uniform(-90.000, 90.000, size=1500)"
   ]
  },
  {
   "cell_type": "code",
   "execution_count": 30,
   "id": "786cd110",
   "metadata": {},
   "outputs": [
    {
     "name": "stdout",
     "output_type": "stream",
     "text": [
      "1.33 ms ± 15.9 µs per loop (mean ± std. dev. of 7 runs, 1000 loops each)\n"
     ]
    }
   ],
   "source": [
    "def latitudes(size):\n",
    "    latitudes = []\n",
    "    x = 0\n",
    "    while x < (size):\n",
    "        random_lat = random.randint(-90, 90) + random.random()\n",
    "        latitudes.append(random_lat)\n",
    "        x += 1\n",
    "    return latitudes\n",
    "# Call the function with 1500.\n",
    "%timeit latitudes(1500)"
   ]
  },
  {
   "cell_type": "code",
   "execution_count": 39,
   "id": "7d5582fd",
   "metadata": {},
   "outputs": [
    {
     "name": "stdout",
     "output_type": "stream",
     "text": [
      "20.5 ns ± 0.232 ns per loop (mean ± std. dev. of 7 runs, 100000000 loops each)\n"
     ]
    }
   ],
   "source": [
    "#Skill drill\n",
    "latitudes = []\n",
    "for i in range(1500):\n",
    "    random_lat = random.randint(-90, 90) + random.random()\n",
    "    latitudes.append(random_lat)\n",
    "    \n",
    "%timeit latitudes"
   ]
  }
 ],
 "metadata": {
  "kernelspec": {
   "display_name": "PythonData",
   "language": "python",
   "name": "pythondata"
  },
  "language_info": {
   "codemirror_mode": {
    "name": "ipython",
    "version": 3
   },
   "file_extension": ".py",
   "mimetype": "text/x-python",
   "name": "python",
   "nbconvert_exporter": "python",
   "pygments_lexer": "ipython3",
   "version": "3.9.7"
  }
 },
 "nbformat": 4,
 "nbformat_minor": 5
}
